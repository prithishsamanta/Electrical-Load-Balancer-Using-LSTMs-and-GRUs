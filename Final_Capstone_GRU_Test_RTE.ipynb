{
  "cells": [
    {
      "cell_type": "markdown",
      "metadata": {
        "id": "view-in-github",
        "colab_type": "text"
      },
      "source": [
        "<a href=\"https://colab.research.google.com/github/prithishsamanta/Electrical-Load-Balancer-Using-LSTMs-and-GRUs/blob/main/Final_Capstone_GRU_Test_RTE.ipynb\" target=\"_parent\"><img src=\"https://colab.research.google.com/assets/colab-badge.svg\" alt=\"Open In Colab\"/></a>"
      ]
    },
    {
      "cell_type": "code",
      "execution_count": null,
      "id": "a3e2a09d",
      "metadata": {
        "id": "a3e2a09d"
      },
      "outputs": [],
      "source": [
        "import pandas as pd\n",
        "import numpy as np\n",
        "from math import sqrt\n",
        "from numpy import concatenate\n",
        "from matplotlib import pyplot\n",
        "from pandas import read_csv\n",
        "from pandas import DataFrame\n",
        "from pandas import concat\n",
        "from sklearn.preprocessing import MinMaxScaler\n",
        "from sklearn.preprocessing import LabelEncoder\n",
        "from sklearn.metrics import mean_squared_error\n",
        "from keras.models import Sequential\n",
        "from keras.layers import Dense\n",
        "from keras.layers import LSTM, GRU\n",
        "import tensorflow as tf\n",
        "from datetime import datetime"
      ]
    },
    {
      "cell_type": "code",
      "source": [
        "# df = pd.read_csv('/content/ercot-dataset.csv')\n",
        "# df.head()\n",
        "\n",
        "from google.colab import drive\n",
        "drive.mount('/content/drive/')"
      ],
      "metadata": {
        "colab": {
          "base_uri": "https://localhost:8080/"
        },
        "id": "9sevO2sIFWa_",
        "outputId": "28c7166b-861a-43ec-e9ae-cbf03a6731c8"
      },
      "id": "9sevO2sIFWa_",
      "execution_count": null,
      "outputs": [
        {
          "output_type": "stream",
          "name": "stdout",
          "text": [
            "Mounted at /content/drive/\n"
          ]
        }
      ]
    },
    {
      "cell_type": "code",
      "source": [
        "path = 'drive/My Drive/Capstone'"
      ],
      "metadata": {
        "id": "20J71bHiFXP4"
      },
      "id": "20J71bHiFXP4",
      "execution_count": null,
      "outputs": []
    },
    {
      "cell_type": "code",
      "execution_count": null,
      "id": "a544880c",
      "metadata": {
        "colab": {
          "base_uri": "https://localhost:8080/",
          "height": 363
        },
        "id": "a544880c",
        "outputId": "70768f69-b8b2-48d6-ca4c-d9db97f0fc12"
      },
      "outputs": [
        {
          "output_type": "execute_result",
          "data": {
            "text/plain": [
              "       Date  Day  Month  Year  Hours  Temperature  Demand  Forcast J-1  \\\n",
              "0  01-01-13    1      1  2013      0        6.800   61194        60300   \n",
              "1  01-01-13    1      1  2013   1800        6.710   59674        59500   \n",
              "2  01-01-13    1      1  2013   3600        6.620   57877        57500   \n",
              "3  01-01-13    1      1  2013   5400        6.530   57755        57800   \n",
              "4  01-01-13    1      1  2013   7200        6.440   57243        57600   \n",
              "5  01-01-13    1      1  2013   9000        6.390   56660        56400   \n",
              "6  01-01-13    1      1  2013  10800        6.340   54376        54900   \n",
              "7  01-01-13    1      1  2013  12600        6.305   52640        53200   \n",
              "8  01-01-13    1      1  2013  14400        6.270   50796        51800   \n",
              "9  01-01-13    1      1  2013  16200        6.270   49860        50700   \n",
              "\n",
              "   Forcast J  \n",
              "0      60200  \n",
              "1      58700  \n",
              "2      56700  \n",
              "3      57400  \n",
              "4      57200  \n",
              "5      55600  \n",
              "6      53400  \n",
              "7      51600  \n",
              "8      49900  \n",
              "9      48900  "
            ],
            "text/html": [
              "\n",
              "  <div id=\"df-97aadf23-6fa8-40c4-818d-7706fe3f4d76\">\n",
              "    <div class=\"colab-df-container\">\n",
              "      <div>\n",
              "<style scoped>\n",
              "    .dataframe tbody tr th:only-of-type {\n",
              "        vertical-align: middle;\n",
              "    }\n",
              "\n",
              "    .dataframe tbody tr th {\n",
              "        vertical-align: top;\n",
              "    }\n",
              "\n",
              "    .dataframe thead th {\n",
              "        text-align: right;\n",
              "    }\n",
              "</style>\n",
              "<table border=\"1\" class=\"dataframe\">\n",
              "  <thead>\n",
              "    <tr style=\"text-align: right;\">\n",
              "      <th></th>\n",
              "      <th>Date</th>\n",
              "      <th>Day</th>\n",
              "      <th>Month</th>\n",
              "      <th>Year</th>\n",
              "      <th>Hours</th>\n",
              "      <th>Temperature</th>\n",
              "      <th>Demand</th>\n",
              "      <th>Forcast J-1</th>\n",
              "      <th>Forcast J</th>\n",
              "    </tr>\n",
              "  </thead>\n",
              "  <tbody>\n",
              "    <tr>\n",
              "      <th>0</th>\n",
              "      <td>01-01-13</td>\n",
              "      <td>1</td>\n",
              "      <td>1</td>\n",
              "      <td>2013</td>\n",
              "      <td>0</td>\n",
              "      <td>6.800</td>\n",
              "      <td>61194</td>\n",
              "      <td>60300</td>\n",
              "      <td>60200</td>\n",
              "    </tr>\n",
              "    <tr>\n",
              "      <th>1</th>\n",
              "      <td>01-01-13</td>\n",
              "      <td>1</td>\n",
              "      <td>1</td>\n",
              "      <td>2013</td>\n",
              "      <td>1800</td>\n",
              "      <td>6.710</td>\n",
              "      <td>59674</td>\n",
              "      <td>59500</td>\n",
              "      <td>58700</td>\n",
              "    </tr>\n",
              "    <tr>\n",
              "      <th>2</th>\n",
              "      <td>01-01-13</td>\n",
              "      <td>1</td>\n",
              "      <td>1</td>\n",
              "      <td>2013</td>\n",
              "      <td>3600</td>\n",
              "      <td>6.620</td>\n",
              "      <td>57877</td>\n",
              "      <td>57500</td>\n",
              "      <td>56700</td>\n",
              "    </tr>\n",
              "    <tr>\n",
              "      <th>3</th>\n",
              "      <td>01-01-13</td>\n",
              "      <td>1</td>\n",
              "      <td>1</td>\n",
              "      <td>2013</td>\n",
              "      <td>5400</td>\n",
              "      <td>6.530</td>\n",
              "      <td>57755</td>\n",
              "      <td>57800</td>\n",
              "      <td>57400</td>\n",
              "    </tr>\n",
              "    <tr>\n",
              "      <th>4</th>\n",
              "      <td>01-01-13</td>\n",
              "      <td>1</td>\n",
              "      <td>1</td>\n",
              "      <td>2013</td>\n",
              "      <td>7200</td>\n",
              "      <td>6.440</td>\n",
              "      <td>57243</td>\n",
              "      <td>57600</td>\n",
              "      <td>57200</td>\n",
              "    </tr>\n",
              "    <tr>\n",
              "      <th>5</th>\n",
              "      <td>01-01-13</td>\n",
              "      <td>1</td>\n",
              "      <td>1</td>\n",
              "      <td>2013</td>\n",
              "      <td>9000</td>\n",
              "      <td>6.390</td>\n",
              "      <td>56660</td>\n",
              "      <td>56400</td>\n",
              "      <td>55600</td>\n",
              "    </tr>\n",
              "    <tr>\n",
              "      <th>6</th>\n",
              "      <td>01-01-13</td>\n",
              "      <td>1</td>\n",
              "      <td>1</td>\n",
              "      <td>2013</td>\n",
              "      <td>10800</td>\n",
              "      <td>6.340</td>\n",
              "      <td>54376</td>\n",
              "      <td>54900</td>\n",
              "      <td>53400</td>\n",
              "    </tr>\n",
              "    <tr>\n",
              "      <th>7</th>\n",
              "      <td>01-01-13</td>\n",
              "      <td>1</td>\n",
              "      <td>1</td>\n",
              "      <td>2013</td>\n",
              "      <td>12600</td>\n",
              "      <td>6.305</td>\n",
              "      <td>52640</td>\n",
              "      <td>53200</td>\n",
              "      <td>51600</td>\n",
              "    </tr>\n",
              "    <tr>\n",
              "      <th>8</th>\n",
              "      <td>01-01-13</td>\n",
              "      <td>1</td>\n",
              "      <td>1</td>\n",
              "      <td>2013</td>\n",
              "      <td>14400</td>\n",
              "      <td>6.270</td>\n",
              "      <td>50796</td>\n",
              "      <td>51800</td>\n",
              "      <td>49900</td>\n",
              "    </tr>\n",
              "    <tr>\n",
              "      <th>9</th>\n",
              "      <td>01-01-13</td>\n",
              "      <td>1</td>\n",
              "      <td>1</td>\n",
              "      <td>2013</td>\n",
              "      <td>16200</td>\n",
              "      <td>6.270</td>\n",
              "      <td>49860</td>\n",
              "      <td>50700</td>\n",
              "      <td>48900</td>\n",
              "    </tr>\n",
              "  </tbody>\n",
              "</table>\n",
              "</div>\n",
              "      <button class=\"colab-df-convert\" onclick=\"convertToInteractive('df-97aadf23-6fa8-40c4-818d-7706fe3f4d76')\"\n",
              "              title=\"Convert this dataframe to an interactive table.\"\n",
              "              style=\"display:none;\">\n",
              "        \n",
              "  <svg xmlns=\"http://www.w3.org/2000/svg\" height=\"24px\"viewBox=\"0 0 24 24\"\n",
              "       width=\"24px\">\n",
              "    <path d=\"M0 0h24v24H0V0z\" fill=\"none\"/>\n",
              "    <path d=\"M18.56 5.44l.94 2.06.94-2.06 2.06-.94-2.06-.94-.94-2.06-.94 2.06-2.06.94zm-11 1L8.5 8.5l.94-2.06 2.06-.94-2.06-.94L8.5 2.5l-.94 2.06-2.06.94zm10 10l.94 2.06.94-2.06 2.06-.94-2.06-.94-.94-2.06-.94 2.06-2.06.94z\"/><path d=\"M17.41 7.96l-1.37-1.37c-.4-.4-.92-.59-1.43-.59-.52 0-1.04.2-1.43.59L10.3 9.45l-7.72 7.72c-.78.78-.78 2.05 0 2.83L4 21.41c.39.39.9.59 1.41.59.51 0 1.02-.2 1.41-.59l7.78-7.78 2.81-2.81c.8-.78.8-2.07 0-2.86zM5.41 20L4 18.59l7.72-7.72 1.47 1.35L5.41 20z\"/>\n",
              "  </svg>\n",
              "      </button>\n",
              "      \n",
              "  <style>\n",
              "    .colab-df-container {\n",
              "      display:flex;\n",
              "      flex-wrap:wrap;\n",
              "      gap: 12px;\n",
              "    }\n",
              "\n",
              "    .colab-df-convert {\n",
              "      background-color: #E8F0FE;\n",
              "      border: none;\n",
              "      border-radius: 50%;\n",
              "      cursor: pointer;\n",
              "      display: none;\n",
              "      fill: #1967D2;\n",
              "      height: 32px;\n",
              "      padding: 0 0 0 0;\n",
              "      width: 32px;\n",
              "    }\n",
              "\n",
              "    .colab-df-convert:hover {\n",
              "      background-color: #E2EBFA;\n",
              "      box-shadow: 0px 1px 2px rgba(60, 64, 67, 0.3), 0px 1px 3px 1px rgba(60, 64, 67, 0.15);\n",
              "      fill: #174EA6;\n",
              "    }\n",
              "\n",
              "    [theme=dark] .colab-df-convert {\n",
              "      background-color: #3B4455;\n",
              "      fill: #D2E3FC;\n",
              "    }\n",
              "\n",
              "    [theme=dark] .colab-df-convert:hover {\n",
              "      background-color: #434B5C;\n",
              "      box-shadow: 0px 1px 3px 1px rgba(0, 0, 0, 0.15);\n",
              "      filter: drop-shadow(0px 1px 2px rgba(0, 0, 0, 0.3));\n",
              "      fill: #FFFFFF;\n",
              "    }\n",
              "  </style>\n",
              "\n",
              "      <script>\n",
              "        const buttonEl =\n",
              "          document.querySelector('#df-97aadf23-6fa8-40c4-818d-7706fe3f4d76 button.colab-df-convert');\n",
              "        buttonEl.style.display =\n",
              "          google.colab.kernel.accessAllowed ? 'block' : 'none';\n",
              "\n",
              "        async function convertToInteractive(key) {\n",
              "          const element = document.querySelector('#df-97aadf23-6fa8-40c4-818d-7706fe3f4d76');\n",
              "          const dataTable =\n",
              "            await google.colab.kernel.invokeFunction('convertToInteractive',\n",
              "                                                     [key], {});\n",
              "          if (!dataTable) return;\n",
              "\n",
              "          const docLinkHtml = 'Like what you see? Visit the ' +\n",
              "            '<a target=\"_blank\" href=https://colab.research.google.com/notebooks/data_table.ipynb>data table notebook</a>'\n",
              "            + ' to learn more about interactive tables.';\n",
              "          element.innerHTML = '';\n",
              "          dataTable['output_type'] = 'display_data';\n",
              "          await google.colab.output.renderOutput(dataTable, element);\n",
              "          const docLink = document.createElement('div');\n",
              "          docLink.innerHTML = docLinkHtml;\n",
              "          element.appendChild(docLink);\n",
              "        }\n",
              "      </script>\n",
              "    </div>\n",
              "  </div>\n",
              "  "
            ]
          },
          "metadata": {},
          "execution_count": 4
        }
      ],
      "source": [
        "df = pd.read_csv(path+'/capstone_dataset_rte.csv')\n",
        "df.head(10)"
      ]
    },
    {
      "cell_type": "code",
      "execution_count": null,
      "id": "802df1e9",
      "metadata": {
        "id": "802df1e9"
      },
      "outputs": [],
      "source": [
        "features_considered = ['Demand', 'Temperature', 'Forcast J-1', 'Forcast J']"
      ]
    },
    {
      "cell_type": "code",
      "execution_count": null,
      "id": "68ee2092",
      "metadata": {
        "colab": {
          "base_uri": "https://localhost:8080/",
          "height": 237
        },
        "id": "68ee2092",
        "outputId": "8afef197-9900-4ffc-e7f7-b12a6b7ddb8a"
      },
      "outputs": [
        {
          "output_type": "execute_result",
          "data": {
            "text/plain": [
              "          Demand  Temperature  Forcast J-1  Forcast J\n",
              "Date                                                 \n",
              "01-01-13   61194         6.80        60300      60200\n",
              "01-01-13   59674         6.71        59500      58700\n",
              "01-01-13   57877         6.62        57500      56700\n",
              "01-01-13   57755         6.53        57800      57400\n",
              "01-01-13   57243         6.44        57600      57200"
            ],
            "text/html": [
              "\n",
              "  <div id=\"df-31a2c1e0-ec02-4199-8008-40ce65694546\">\n",
              "    <div class=\"colab-df-container\">\n",
              "      <div>\n",
              "<style scoped>\n",
              "    .dataframe tbody tr th:only-of-type {\n",
              "        vertical-align: middle;\n",
              "    }\n",
              "\n",
              "    .dataframe tbody tr th {\n",
              "        vertical-align: top;\n",
              "    }\n",
              "\n",
              "    .dataframe thead th {\n",
              "        text-align: right;\n",
              "    }\n",
              "</style>\n",
              "<table border=\"1\" class=\"dataframe\">\n",
              "  <thead>\n",
              "    <tr style=\"text-align: right;\">\n",
              "      <th></th>\n",
              "      <th>Demand</th>\n",
              "      <th>Temperature</th>\n",
              "      <th>Forcast J-1</th>\n",
              "      <th>Forcast J</th>\n",
              "    </tr>\n",
              "    <tr>\n",
              "      <th>Date</th>\n",
              "      <th></th>\n",
              "      <th></th>\n",
              "      <th></th>\n",
              "      <th></th>\n",
              "    </tr>\n",
              "  </thead>\n",
              "  <tbody>\n",
              "    <tr>\n",
              "      <th>01-01-13</th>\n",
              "      <td>61194</td>\n",
              "      <td>6.80</td>\n",
              "      <td>60300</td>\n",
              "      <td>60200</td>\n",
              "    </tr>\n",
              "    <tr>\n",
              "      <th>01-01-13</th>\n",
              "      <td>59674</td>\n",
              "      <td>6.71</td>\n",
              "      <td>59500</td>\n",
              "      <td>58700</td>\n",
              "    </tr>\n",
              "    <tr>\n",
              "      <th>01-01-13</th>\n",
              "      <td>57877</td>\n",
              "      <td>6.62</td>\n",
              "      <td>57500</td>\n",
              "      <td>56700</td>\n",
              "    </tr>\n",
              "    <tr>\n",
              "      <th>01-01-13</th>\n",
              "      <td>57755</td>\n",
              "      <td>6.53</td>\n",
              "      <td>57800</td>\n",
              "      <td>57400</td>\n",
              "    </tr>\n",
              "    <tr>\n",
              "      <th>01-01-13</th>\n",
              "      <td>57243</td>\n",
              "      <td>6.44</td>\n",
              "      <td>57600</td>\n",
              "      <td>57200</td>\n",
              "    </tr>\n",
              "  </tbody>\n",
              "</table>\n",
              "</div>\n",
              "      <button class=\"colab-df-convert\" onclick=\"convertToInteractive('df-31a2c1e0-ec02-4199-8008-40ce65694546')\"\n",
              "              title=\"Convert this dataframe to an interactive table.\"\n",
              "              style=\"display:none;\">\n",
              "        \n",
              "  <svg xmlns=\"http://www.w3.org/2000/svg\" height=\"24px\"viewBox=\"0 0 24 24\"\n",
              "       width=\"24px\">\n",
              "    <path d=\"M0 0h24v24H0V0z\" fill=\"none\"/>\n",
              "    <path d=\"M18.56 5.44l.94 2.06.94-2.06 2.06-.94-2.06-.94-.94-2.06-.94 2.06-2.06.94zm-11 1L8.5 8.5l.94-2.06 2.06-.94-2.06-.94L8.5 2.5l-.94 2.06-2.06.94zm10 10l.94 2.06.94-2.06 2.06-.94-2.06-.94-.94-2.06-.94 2.06-2.06.94z\"/><path d=\"M17.41 7.96l-1.37-1.37c-.4-.4-.92-.59-1.43-.59-.52 0-1.04.2-1.43.59L10.3 9.45l-7.72 7.72c-.78.78-.78 2.05 0 2.83L4 21.41c.39.39.9.59 1.41.59.51 0 1.02-.2 1.41-.59l7.78-7.78 2.81-2.81c.8-.78.8-2.07 0-2.86zM5.41 20L4 18.59l7.72-7.72 1.47 1.35L5.41 20z\"/>\n",
              "  </svg>\n",
              "      </button>\n",
              "      \n",
              "  <style>\n",
              "    .colab-df-container {\n",
              "      display:flex;\n",
              "      flex-wrap:wrap;\n",
              "      gap: 12px;\n",
              "    }\n",
              "\n",
              "    .colab-df-convert {\n",
              "      background-color: #E8F0FE;\n",
              "      border: none;\n",
              "      border-radius: 50%;\n",
              "      cursor: pointer;\n",
              "      display: none;\n",
              "      fill: #1967D2;\n",
              "      height: 32px;\n",
              "      padding: 0 0 0 0;\n",
              "      width: 32px;\n",
              "    }\n",
              "\n",
              "    .colab-df-convert:hover {\n",
              "      background-color: #E2EBFA;\n",
              "      box-shadow: 0px 1px 2px rgba(60, 64, 67, 0.3), 0px 1px 3px 1px rgba(60, 64, 67, 0.15);\n",
              "      fill: #174EA6;\n",
              "    }\n",
              "\n",
              "    [theme=dark] .colab-df-convert {\n",
              "      background-color: #3B4455;\n",
              "      fill: #D2E3FC;\n",
              "    }\n",
              "\n",
              "    [theme=dark] .colab-df-convert:hover {\n",
              "      background-color: #434B5C;\n",
              "      box-shadow: 0px 1px 3px 1px rgba(0, 0, 0, 0.15);\n",
              "      filter: drop-shadow(0px 1px 2px rgba(0, 0, 0, 0.3));\n",
              "      fill: #FFFFFF;\n",
              "    }\n",
              "  </style>\n",
              "\n",
              "      <script>\n",
              "        const buttonEl =\n",
              "          document.querySelector('#df-31a2c1e0-ec02-4199-8008-40ce65694546 button.colab-df-convert');\n",
              "        buttonEl.style.display =\n",
              "          google.colab.kernel.accessAllowed ? 'block' : 'none';\n",
              "\n",
              "        async function convertToInteractive(key) {\n",
              "          const element = document.querySelector('#df-31a2c1e0-ec02-4199-8008-40ce65694546');\n",
              "          const dataTable =\n",
              "            await google.colab.kernel.invokeFunction('convertToInteractive',\n",
              "                                                     [key], {});\n",
              "          if (!dataTable) return;\n",
              "\n",
              "          const docLinkHtml = 'Like what you see? Visit the ' +\n",
              "            '<a target=\"_blank\" href=https://colab.research.google.com/notebooks/data_table.ipynb>data table notebook</a>'\n",
              "            + ' to learn more about interactive tables.';\n",
              "          element.innerHTML = '';\n",
              "          dataTable['output_type'] = 'display_data';\n",
              "          await google.colab.output.renderOutput(dataTable, element);\n",
              "          const docLink = document.createElement('div');\n",
              "          docLink.innerHTML = docLinkHtml;\n",
              "          element.appendChild(docLink);\n",
              "        }\n",
              "      </script>\n",
              "    </div>\n",
              "  </div>\n",
              "  "
            ]
          },
          "metadata": {},
          "execution_count": 6
        }
      ],
      "source": [
        "features = df[features_considered]\n",
        "features.index = df['Date']\n",
        "features.head()"
      ]
    },
    {
      "cell_type": "code",
      "execution_count": null,
      "id": "d29d09d9",
      "metadata": {
        "id": "d29d09d9"
      },
      "outputs": [],
      "source": [
        "values = features.values\n",
        "values = values.astype('float32')"
      ]
    },
    {
      "cell_type": "code",
      "execution_count": null,
      "id": "21a7eacc",
      "metadata": {
        "colab": {
          "base_uri": "https://localhost:8080/"
        },
        "id": "21a7eacc",
        "outputId": "46ba736b-b462-4ad7-a1cc-3c8bdd5273a8"
      },
      "outputs": [
        {
          "output_type": "stream",
          "name": "stdout",
          "text": [
            "[[6.1194e+04 6.8000e+00 6.0300e+04 6.0200e+04]\n",
            " [5.9674e+04 6.7100e+00 5.9500e+04 5.8700e+04]\n",
            " [5.7877e+04 6.6200e+00 5.7500e+04 5.6700e+04]\n",
            " ...\n",
            " [7.1924e+04 1.2150e+00 7.0800e+04 7.2300e+04]\n",
            " [7.5424e+04 1.1400e+00 7.4200e+04 7.5600e+04]\n",
            " [7.5504e+04 1.1000e+00 7.4600e+04 7.6600e+04]]\n"
          ]
        }
      ],
      "source": [
        "print(values)"
      ]
    },
    {
      "cell_type": "code",
      "execution_count": null,
      "id": "e124c91c",
      "metadata": {
        "id": "e124c91c"
      },
      "outputs": [],
      "source": [
        "scaler = MinMaxScaler(feature_range=(0, 1))\n",
        "scaled = scaler.fit_transform(values)\n",
        "scaled = pd.DataFrame(scaled)"
      ]
    },
    {
      "cell_type": "code",
      "execution_count": null,
      "id": "664f6ec0",
      "metadata": {
        "colab": {
          "base_uri": "https://localhost:8080/",
          "height": 175
        },
        "id": "664f6ec0",
        "outputId": "6b7b6a46-a6fb-4adf-8a49-4491f4cb40e3"
      },
      "outputs": [
        {
          "output_type": "execute_result",
          "data": {
            "text/plain": [
              "          0         1         2         3\n",
              "0  0.502233  0.283751  0.492260  0.645923\n",
              "1  0.478164  0.281326  0.479876  0.629828\n",
              "2  0.449709  0.278901  0.448916  0.608369\n",
              "3  0.447777  0.276475  0.453560  0.615880"
            ],
            "text/html": [
              "\n",
              "  <div id=\"df-e8dff68d-cb72-4851-8c7a-251531f836bb\">\n",
              "    <div class=\"colab-df-container\">\n",
              "      <div>\n",
              "<style scoped>\n",
              "    .dataframe tbody tr th:only-of-type {\n",
              "        vertical-align: middle;\n",
              "    }\n",
              "\n",
              "    .dataframe tbody tr th {\n",
              "        vertical-align: top;\n",
              "    }\n",
              "\n",
              "    .dataframe thead th {\n",
              "        text-align: right;\n",
              "    }\n",
              "</style>\n",
              "<table border=\"1\" class=\"dataframe\">\n",
              "  <thead>\n",
              "    <tr style=\"text-align: right;\">\n",
              "      <th></th>\n",
              "      <th>0</th>\n",
              "      <th>1</th>\n",
              "      <th>2</th>\n",
              "      <th>3</th>\n",
              "    </tr>\n",
              "  </thead>\n",
              "  <tbody>\n",
              "    <tr>\n",
              "      <th>0</th>\n",
              "      <td>0.502233</td>\n",
              "      <td>0.283751</td>\n",
              "      <td>0.492260</td>\n",
              "      <td>0.645923</td>\n",
              "    </tr>\n",
              "    <tr>\n",
              "      <th>1</th>\n",
              "      <td>0.478164</td>\n",
              "      <td>0.281326</td>\n",
              "      <td>0.479876</td>\n",
              "      <td>0.629828</td>\n",
              "    </tr>\n",
              "    <tr>\n",
              "      <th>2</th>\n",
              "      <td>0.449709</td>\n",
              "      <td>0.278901</td>\n",
              "      <td>0.448916</td>\n",
              "      <td>0.608369</td>\n",
              "    </tr>\n",
              "    <tr>\n",
              "      <th>3</th>\n",
              "      <td>0.447777</td>\n",
              "      <td>0.276475</td>\n",
              "      <td>0.453560</td>\n",
              "      <td>0.615880</td>\n",
              "    </tr>\n",
              "  </tbody>\n",
              "</table>\n",
              "</div>\n",
              "      <button class=\"colab-df-convert\" onclick=\"convertToInteractive('df-e8dff68d-cb72-4851-8c7a-251531f836bb')\"\n",
              "              title=\"Convert this dataframe to an interactive table.\"\n",
              "              style=\"display:none;\">\n",
              "        \n",
              "  <svg xmlns=\"http://www.w3.org/2000/svg\" height=\"24px\"viewBox=\"0 0 24 24\"\n",
              "       width=\"24px\">\n",
              "    <path d=\"M0 0h24v24H0V0z\" fill=\"none\"/>\n",
              "    <path d=\"M18.56 5.44l.94 2.06.94-2.06 2.06-.94-2.06-.94-.94-2.06-.94 2.06-2.06.94zm-11 1L8.5 8.5l.94-2.06 2.06-.94-2.06-.94L8.5 2.5l-.94 2.06-2.06.94zm10 10l.94 2.06.94-2.06 2.06-.94-2.06-.94-.94-2.06-.94 2.06-2.06.94z\"/><path d=\"M17.41 7.96l-1.37-1.37c-.4-.4-.92-.59-1.43-.59-.52 0-1.04.2-1.43.59L10.3 9.45l-7.72 7.72c-.78.78-.78 2.05 0 2.83L4 21.41c.39.39.9.59 1.41.59.51 0 1.02-.2 1.41-.59l7.78-7.78 2.81-2.81c.8-.78.8-2.07 0-2.86zM5.41 20L4 18.59l7.72-7.72 1.47 1.35L5.41 20z\"/>\n",
              "  </svg>\n",
              "      </button>\n",
              "      \n",
              "  <style>\n",
              "    .colab-df-container {\n",
              "      display:flex;\n",
              "      flex-wrap:wrap;\n",
              "      gap: 12px;\n",
              "    }\n",
              "\n",
              "    .colab-df-convert {\n",
              "      background-color: #E8F0FE;\n",
              "      border: none;\n",
              "      border-radius: 50%;\n",
              "      cursor: pointer;\n",
              "      display: none;\n",
              "      fill: #1967D2;\n",
              "      height: 32px;\n",
              "      padding: 0 0 0 0;\n",
              "      width: 32px;\n",
              "    }\n",
              "\n",
              "    .colab-df-convert:hover {\n",
              "      background-color: #E2EBFA;\n",
              "      box-shadow: 0px 1px 2px rgba(60, 64, 67, 0.3), 0px 1px 3px 1px rgba(60, 64, 67, 0.15);\n",
              "      fill: #174EA6;\n",
              "    }\n",
              "\n",
              "    [theme=dark] .colab-df-convert {\n",
              "      background-color: #3B4455;\n",
              "      fill: #D2E3FC;\n",
              "    }\n",
              "\n",
              "    [theme=dark] .colab-df-convert:hover {\n",
              "      background-color: #434B5C;\n",
              "      box-shadow: 0px 1px 3px 1px rgba(0, 0, 0, 0.15);\n",
              "      filter: drop-shadow(0px 1px 2px rgba(0, 0, 0, 0.3));\n",
              "      fill: #FFFFFF;\n",
              "    }\n",
              "  </style>\n",
              "\n",
              "      <script>\n",
              "        const buttonEl =\n",
              "          document.querySelector('#df-e8dff68d-cb72-4851-8c7a-251531f836bb button.colab-df-convert');\n",
              "        buttonEl.style.display =\n",
              "          google.colab.kernel.accessAllowed ? 'block' : 'none';\n",
              "\n",
              "        async function convertToInteractive(key) {\n",
              "          const element = document.querySelector('#df-e8dff68d-cb72-4851-8c7a-251531f836bb');\n",
              "          const dataTable =\n",
              "            await google.colab.kernel.invokeFunction('convertToInteractive',\n",
              "                                                     [key], {});\n",
              "          if (!dataTable) return;\n",
              "\n",
              "          const docLinkHtml = 'Like what you see? Visit the ' +\n",
              "            '<a target=\"_blank\" href=https://colab.research.google.com/notebooks/data_table.ipynb>data table notebook</a>'\n",
              "            + ' to learn more about interactive tables.';\n",
              "          element.innerHTML = '';\n",
              "          dataTable['output_type'] = 'display_data';\n",
              "          await google.colab.output.renderOutput(dataTable, element);\n",
              "          const docLink = document.createElement('div');\n",
              "          docLink.innerHTML = docLinkHtml;\n",
              "          element.appendChild(docLink);\n",
              "        }\n",
              "      </script>\n",
              "    </div>\n",
              "  </div>\n",
              "  "
            ]
          },
          "metadata": {},
          "execution_count": 10
        }
      ],
      "source": [
        "scaled.head(4)"
      ]
    },
    {
      "cell_type": "code",
      "execution_count": null,
      "id": "70915e5d",
      "metadata": {
        "id": "70915e5d"
      },
      "outputs": [],
      "source": [
        "def create_ts_data(dataset, lookback=1, predicted_col=1):\n",
        "    temp=dataset.copy()\n",
        "    temp[\"id\"]= range(1, len(temp)+1)\n",
        "    temp = temp.iloc[:-lookback, :]  # copies all the values to the temp variable\n",
        "    temp.set_index('id', inplace =True)  # makes id the index column of the dataset\n",
        "    predicted_value=dataset.copy()  # cpoies all the values to the new variable\n",
        "    predicted_value = predicted_value.iloc[lookback:,predicted_col]  # sets the 0th coulmn as the column to be predicted\n",
        "    predicted_value.columns=[\"Predcited\"]\n",
        "    predicted_value= pd.DataFrame(predicted_value)\n",
        "\n",
        "    predicted_value[\"id\"]= range(1, len(predicted_value)+1)  # adding the id column to the predicted value\n",
        "    predicted_value.set_index('id', inplace =True)\n",
        "    final_df= pd.concat([temp, predicted_value], axis=1)  # concats the 2 variables to 1, the new variable has 7 columns\n",
        "    #  final_df has (t-1) time data in the first 6 columns, which is used to predict the load at time (t), present in the 7th column\n",
        "\n",
        "    return final_df"
      ]
    },
    {
      "cell_type": "code",
      "execution_count": null,
      "id": "22352cf5",
      "metadata": {
        "colab": {
          "base_uri": "https://localhost:8080/"
        },
        "id": "22352cf5",
        "outputId": "3b1ceb36-48ea-4621-fc6f-fdb295de863a"
      },
      "outputs": [
        {
          "output_type": "stream",
          "name": "stdout",
          "text": [
            "    var1(t-1)  var2(t-1)  var3(t-1)  var4(t-1)   var1(t)\n",
            "id                                                      \n",
            "1    0.502233   0.283751   0.492260   0.645923  0.478164\n",
            "2    0.478164   0.281326   0.479876   0.629828  0.449709\n",
            "3    0.449709   0.278901   0.448916   0.608369  0.447777\n",
            "4    0.447777   0.276475   0.453560   0.615880  0.439669\n"
          ]
        }
      ],
      "source": [
        "reframed_df= create_ts_data(scaled, 1,0)\n",
        "reframed_df.fillna(0, inplace=True)\n",
        "\n",
        "reframed_df.columns = ['var1(t-1)', 'var2(t-1)', 'var3(t-1)', 'var4(t-1)', 'var1(t)']\n",
        "print(reframed_df.head(4))"
      ]
    },
    {
      "cell_type": "code",
      "execution_count": null,
      "id": "61106834",
      "metadata": {
        "id": "61106834"
      },
      "outputs": [],
      "source": [
        "values = reframed_df.values\n",
        "training_sample = int( len(df) *0.8)\n",
        "val_sample = int( len(df) * 0.1) + training_sample\n",
        "train = values[:training_sample, :]\n",
        "val = values[training_sample:val_sample, :]\n",
        "test = values[val_sample:, :]\n",
        "\n",
        "# split into input and outputs\n",
        "\n",
        "train_X, train_y = train[:, :-1], train[:, -1]\n",
        "test_X, test_y = test[:, :-1], test[:, -1]\n",
        "val_X, val_y = val[:, :-1], val[:, -1]"
      ]
    },
    {
      "cell_type": "code",
      "execution_count": null,
      "id": "a0a531fd",
      "metadata": {
        "colab": {
          "base_uri": "https://localhost:8080/"
        },
        "id": "a0a531fd",
        "outputId": "4e9b5916-34c3-4a4f-d64e-4a8758f03789"
      },
      "outputs": [
        {
          "output_type": "stream",
          "name": "stdout",
          "text": [
            "train_X: [[0.5022328  0.283751   0.49226004 0.6459227 ]\n",
            " [0.4781638  0.2813258  0.47987616 0.62982833]\n",
            " [0.44970867 0.27890056 0.44891644 0.6083691 ]\n",
            " ...\n",
            " [0.5118761  0.36890325 0.49535602 0.6491416 ]\n",
            " [0.5259533  0.3562382  0.5123839  0.6609442 ]\n",
            " [0.55907965 0.34276474 0.54798764 0.68454933]] \n",
            "\n",
            "train_y: [0.4781638  0.44970867 0.44777682 ... 0.5259533  0.55907965 0.6247467 ] \n",
            "\n",
            "val_X: [[0.6247467  0.32929128 0.622291   0.7360515 ]\n",
            " [0.6747371  0.31676096 0.66408664 0.76502144]\n",
            " [0.6605016  0.30423066 0.6470588  0.7532189 ]\n",
            " ...\n",
            " [0.15112743 0.71355426 0.16718268 0.42274678]\n",
            " [0.15559289 0.6914578  0.17027867 0.42381975]\n",
            " [0.15030405 0.6716518  0.16563469 0.4216738 ]] \n",
            "\n",
            "val_y: [0.6747371  0.6605016  0.6244141  ... 0.15559289 0.15030405 0.14746961] \n",
            "\n",
            "test_X: [[0.14746961 0.6518458  0.16099072 0.42060086]\n",
            " [0.1651729  0.6378334  0.17647058 0.43240345]\n",
            " [0.18094441 0.623821   0.18421054 0.4388412 ]\n",
            " ...\n",
            " [0.6542311  0.13527352 0.622291   0.7553648 ]\n",
            " [0.67214024 0.13325249 0.6547988  0.77575105]\n",
            " [0.72756207 0.13123147 0.7074303  0.8111588 ]] \n",
            "\n",
            "test_y: [0.1651729  0.18094441 0.19196543 ... 0.67214024 0.72756207 0.7288289 ]\n"
          ]
        }
      ],
      "source": [
        "print(\"train_X:\", train_X, \"\\n\\ntrain_y:\", train_y, \"\\n\\nval_X:\", val_X, \"\\n\\nval_y:\", val_y, \"\\n\\ntest_X:\", test_X, \"\\n\\ntest_y:\", test_y)"
      ]
    },
    {
      "cell_type": "code",
      "execution_count": null,
      "id": "cb2cb490",
      "metadata": {
        "colab": {
          "base_uri": "https://localhost:8080/"
        },
        "id": "cb2cb490",
        "outputId": "b22ff749-ca25-4768-9514-2678206bc52c"
      },
      "outputs": [
        {
          "output_type": "stream",
          "name": "stdout",
          "text": [
            "(56102, 1, 4) (56102,) (7012, 1, 4) (7012,) (7013, 1, 4) (7013,)\n"
          ]
        }
      ],
      "source": [
        "train_X = train_X.reshape((train_X.shape[0], 1, train_X.shape[1]))\n",
        "val_X = val_X.reshape((val_X.shape[0], 1, val_X.shape[1]))\n",
        "test_X = test_X.reshape((test_X.shape[0], 1, test_X.shape[1]))\n",
        "print(train_X.shape, train_y.shape, val_X.shape, val_y.shape, test_X.shape, test_y.shape)"
      ]
    },
    {
      "cell_type": "code",
      "execution_count": null,
      "id": "23604a55",
      "metadata": {
        "id": "23604a55"
      },
      "outputs": [],
      "source": [
        "model_lstm = Sequential()\n",
        "model_lstm.add(LSTM(75, return_sequences=True,input_shape=(train_X.shape[1], train_X.shape[2])))\n",
        "# model.add(Dropout(0.2))\n",
        "\n",
        "model_lstm.add(LSTM(units=30, return_sequences=True))\n",
        "# model.add(Dropout(0.2))\n",
        "\n",
        "model_lstm.add(LSTM(units=30))\n",
        "# model.add(Dropout(0.2))\n",
        "\n",
        "model_lstm.add(Dense(units=1))\n",
        "\n",
        "model_lstm.compile(loss='mae', optimizer='adam')"
      ]
    },
    {
      "cell_type": "code",
      "execution_count": null,
      "id": "912aad6f",
      "metadata": {
        "colab": {
          "base_uri": "https://localhost:8080/"
        },
        "id": "912aad6f",
        "outputId": "7c2401f3-9545-45cf-d43c-eb38dfc38769"
      },
      "outputs": [
        {
          "output_type": "stream",
          "name": "stdout",
          "text": [
            "Model: \"sequential\"\n",
            "_________________________________________________________________\n",
            " Layer (type)                Output Shape              Param #   \n",
            "=================================================================\n",
            " lstm (LSTM)                 (None, 1, 75)             24000     \n",
            "                                                                 \n",
            " lstm_1 (LSTM)               (None, 1, 30)             12720     \n",
            "                                                                 \n",
            " lstm_2 (LSTM)               (None, 30)                7320      \n",
            "                                                                 \n",
            " dense (Dense)               (None, 1)                 31        \n",
            "                                                                 \n",
            "=================================================================\n",
            "Total params: 44,071\n",
            "Trainable params: 44,071\n",
            "Non-trainable params: 0\n",
            "_________________________________________________________________\n"
          ]
        }
      ],
      "source": [
        "model_lstm.summary()"
      ]
    },
    {
      "cell_type": "code",
      "execution_count": null,
      "id": "b3fd29c0",
      "metadata": {
        "colab": {
          "base_uri": "https://localhost:8080/"
        },
        "id": "b3fd29c0",
        "outputId": "d9ae85eb-11ac-4e2c-ab49-7d9bf61fef9e"
      },
      "outputs": [
        {
          "output_type": "stream",
          "name": "stdout",
          "text": [
            "Epoch 1/10\n",
            "877/877 [==============================] - 9s 5ms/step - loss: 0.0562 - val_loss: 0.0344\n",
            "Epoch 2/10\n",
            "877/877 [==============================] - 4s 4ms/step - loss: 0.0191 - val_loss: 0.0173\n",
            "Epoch 3/10\n",
            "877/877 [==============================] - 5s 5ms/step - loss: 0.0184 - val_loss: 0.0155\n",
            "Epoch 4/10\n",
            "877/877 [==============================] - 4s 5ms/step - loss: 0.0183 - val_loss: 0.0153\n",
            "Epoch 5/10\n",
            "877/877 [==============================] - 4s 5ms/step - loss: 0.0182 - val_loss: 0.0150\n",
            "Epoch 6/10\n",
            "877/877 [==============================] - 5s 5ms/step - loss: 0.0180 - val_loss: 0.0153\n",
            "Epoch 7/10\n",
            "877/877 [==============================] - 4s 5ms/step - loss: 0.0179 - val_loss: 0.0151\n",
            "Epoch 8/10\n",
            "877/877 [==============================] - 4s 5ms/step - loss: 0.0177 - val_loss: 0.0153\n",
            "Epoch 9/10\n",
            "877/877 [==============================] - 5s 5ms/step - loss: 0.0175 - val_loss: 0.0160\n",
            "Epoch 10/10\n",
            "877/877 [==============================] - 4s 5ms/step - loss: 0.0174 - val_loss: 0.0173\n"
          ]
        }
      ],
      "source": [
        "history_lstm = model_lstm.fit(train_X, train_y, epochs=10, batch_size=64, validation_data=(val_X, val_y),  shuffle=False)"
      ]
    },
    {
      "cell_type": "code",
      "execution_count": null,
      "id": "ac6b0c96",
      "metadata": {
        "id": "ac6b0c96"
      },
      "outputs": [],
      "source": [
        "model_gru = Sequential()\n",
        "model_gru.add(GRU(75, return_sequences=True,input_shape=(train_X.shape[1], train_X.shape[2])))\n",
        "model_gru.add(GRU(units=30, return_sequences=True))\n",
        "model_gru.add(GRU(units=30))\n",
        "model_gru.add(Dense(units=1))\n",
        "\n",
        "model_gru.compile(loss='mae', optimizer='adam')"
      ]
    },
    {
      "cell_type": "code",
      "execution_count": null,
      "id": "5c7c3914",
      "metadata": {
        "colab": {
          "base_uri": "https://localhost:8080/"
        },
        "id": "5c7c3914",
        "outputId": "ddaa68a2-4f9a-4686-ec66-4bbe0c00f95e"
      },
      "outputs": [
        {
          "output_type": "stream",
          "name": "stdout",
          "text": [
            "Model: \"sequential_1\"\n",
            "_________________________________________________________________\n",
            " Layer (type)                Output Shape              Param #   \n",
            "=================================================================\n",
            " gru (GRU)                   (None, 1, 75)             18225     \n",
            "                                                                 \n",
            " gru_1 (GRU)                 (None, 1, 30)             9630      \n",
            "                                                                 \n",
            " gru_2 (GRU)                 (None, 30)                5580      \n",
            "                                                                 \n",
            " dense_1 (Dense)             (None, 1)                 31        \n",
            "                                                                 \n",
            "=================================================================\n",
            "Total params: 33,466\n",
            "Trainable params: 33,466\n",
            "Non-trainable params: 0\n",
            "_________________________________________________________________\n"
          ]
        }
      ],
      "source": [
        "model_gru.summary()"
      ]
    },
    {
      "cell_type": "code",
      "execution_count": null,
      "id": "85f3c31c",
      "metadata": {
        "colab": {
          "base_uri": "https://localhost:8080/"
        },
        "id": "85f3c31c",
        "outputId": "cd5fe1e1-0ee5-47a5-94db-bf20a02af8a0"
      },
      "outputs": [
        {
          "output_type": "stream",
          "name": "stdout",
          "text": [
            "Epoch 1/10\n",
            "877/877 [==============================] - 10s 6ms/step - loss: 0.0347 - val_loss: 0.0187\n",
            "Epoch 2/10\n",
            "877/877 [==============================] - 4s 5ms/step - loss: 0.0182 - val_loss: 0.0177\n",
            "Epoch 3/10\n",
            "877/877 [==============================] - 5s 5ms/step - loss: 0.0178 - val_loss: 0.0192\n",
            "Epoch 4/10\n",
            "877/877 [==============================] - 4s 5ms/step - loss: 0.0177 - val_loss: 0.0187\n",
            "Epoch 5/10\n",
            "877/877 [==============================] - 4s 5ms/step - loss: 0.0175 - val_loss: 0.0195\n",
            "Epoch 6/10\n",
            "877/877 [==============================] - 5s 5ms/step - loss: 0.0174 - val_loss: 0.0204\n",
            "Epoch 7/10\n",
            "877/877 [==============================] - 4s 5ms/step - loss: 0.0174 - val_loss: 0.0207\n",
            "Epoch 8/10\n",
            "877/877 [==============================] - 4s 5ms/step - loss: 0.0173 - val_loss: 0.0204\n",
            "Epoch 9/10\n",
            "877/877 [==============================] - 5s 5ms/step - loss: 0.0172 - val_loss: 0.0226\n",
            "Epoch 10/10\n",
            "877/877 [==============================] - 4s 5ms/step - loss: 0.0172 - val_loss: 0.0230\n"
          ]
        }
      ],
      "source": [
        "gru_history = model_gru.fit(train_X, train_y, epochs=10, batch_size=64, validation_data=(val_X, val_y), shuffle=False)"
      ]
    },
    {
      "cell_type": "code",
      "execution_count": null,
      "id": "633279f9",
      "metadata": {
        "colab": {
          "base_uri": "https://localhost:8080/",
          "height": 265
        },
        "id": "633279f9",
        "outputId": "a2f8f6ea-b756-4125-fded-e1054e60932f"
      },
      "outputs": [
        {
          "output_type": "display_data",
          "data": {
            "text/plain": [
              "<Figure size 432x288 with 1 Axes>"
            ],
            "image/png": "[encoded data removed]"
          },
          "metadata": {
            "needs_background": "light"
          }
        }
      ],
      "source": [
        "pyplot.plot(history_lstm.history['loss'], label='LSTM train', color='red')\n",
        "pyplot.plot(history_lstm.history['val_loss'], label='LSTM VAL', color= 'green')\n",
        "pyplot.plot(gru_history.history['loss'], label='GRU train', color='brown')\n",
        "pyplot.plot(gru_history.history['val_loss'], label='GRU VAL', color='blue')\n",
        "pyplot.legend()\n",
        "pyplot.show()"
      ]
    },
    {
      "cell_type": "code",
      "execution_count": null,
      "id": "c98e204c",
      "metadata": {
        "colab": {
          "base_uri": "https://localhost:8080/"
        },
        "id": "c98e204c",
        "outputId": "a204bccd-37ad-4561-f6fc-18dafbe36126"
      },
      "outputs": [
        {
          "output_type": "stream",
          "name": "stdout",
          "text": [
            "220/220 [==============================] - 1s 2ms/step\n"
          ]
        }
      ],
      "source": [
        "predicted_lstm = model_lstm.predict(test_X)\n",
        "actual_lstm = test_y"
      ]
    },
    {
      "cell_type": "code",
      "execution_count": null,
      "id": "70326bfd",
      "metadata": {
        "colab": {
          "base_uri": "https://localhost:8080/"
        },
        "id": "70326bfd",
        "outputId": "be6cb7e1-f63b-47e7-9371-261031f08d80"
      },
      "outputs": [
        {
          "output_type": "stream",
          "name": "stdout",
          "text": [
            "[[0.16720445]\n",
            " [0.18261926]\n",
            " [0.19389561]\n",
            " ...\n",
            " [0.6530577 ]\n",
            " [0.67681015]\n",
            " [0.7291084 ]]\n",
            "[0.1651729  0.18094441 0.19196543 ... 0.67214024 0.72756207 0.7288289 ]\n"
          ]
        }
      ],
      "source": [
        "print(predicted_lstm)\n",
        "print(actual_lstm)"
      ]
    },
    {
      "cell_type": "code",
      "execution_count": null,
      "id": "490815ab",
      "metadata": {
        "colab": {
          "base_uri": "https://localhost:8080/"
        },
        "id": "490815ab",
        "outputId": "688bd59d-eaa0-4f5d-87cf-8d36198f0b5b"
      },
      "outputs": [
        {
          "output_type": "stream",
          "name": "stdout",
          "text": [
            "220/220 [==============================] - 1s 2ms/step\n"
          ]
        }
      ],
      "source": [
        "predicted_gru = model_gru.predict(test_X)\n",
        "actual_gru = test_y"
      ]
    },
    {
      "cell_type": "code",
      "execution_count": null,
      "id": "0f2bf67f",
      "metadata": {
        "colab": {
          "base_uri": "https://localhost:8080/"
        },
        "id": "0f2bf67f",
        "outputId": "de8e7b79-972c-4de7-e514-84aafcda73c7"
      },
      "outputs": [
        {
          "output_type": "stream",
          "name": "stdout",
          "text": [
            "[[0.18377024]\n",
            " [0.19848236]\n",
            " [0.20971066]\n",
            " ...\n",
            " [0.661063  ]\n",
            " [0.683964  ]\n",
            " [0.7378222 ]]\n",
            "[0.1651729  0.18094441 0.19196543 ... 0.67214024 0.72756207 0.7288289 ]\n"
          ]
        }
      ],
      "source": [
        "print(predicted_gru)\n",
        "print(actual_gru)"
      ]
    },
    {
      "cell_type": "code",
      "execution_count": null,
      "id": "ae1d6a30",
      "metadata": {
        "id": "ae1d6a30"
      },
      "outputs": [],
      "source": [
        "def mean_absolute_percentage_error(y_true, y_pred):\n",
        "    y_true, y_pred = np.array(y_true), np.array(y_pred)\n",
        "    return np.mean(np.abs((y_true - y_pred) / y_true)) * 100"
      ]
    },
    {
      "cell_type": "code",
      "execution_count": null,
      "id": "062dc6d3",
      "metadata": {
        "id": "062dc6d3"
      },
      "outputs": [],
      "source": [
        "from sklearn.metrics import mean_absolute_error\n",
        "from math import sqrt\n",
        "\n",
        "mape_lstm = sqrt(mean_absolute_percentage_error(predicted_lstm, actual_lstm))\n",
        "mse_lstm = mean_absolute_error(actual_lstm, predicted_lstm)\n",
        "\n",
        "mape_gru = sqrt(mean_absolute_percentage_error(predicted_gru, actual_gru))\n",
        "mse_gru = mean_absolute_error(actual_gru, predicted_gru)"
      ]
    },
    {
      "cell_type": "code",
      "execution_count": null,
      "id": "2ebc16df",
      "metadata": {
        "colab": {
          "base_uri": "https://localhost:8080/"
        },
        "id": "2ebc16df",
        "outputId": "062eb2cc-6b30-49b3-b480-6eeb24405f2a"
      },
      "outputs": [
        {
          "output_type": "stream",
          "name": "stdout",
          "text": [
            "mape_model_lstm:  8.219845035257096\n",
            "mse_model_lstm:  0.019457404\n",
            "mape_model_gru:  7.872086455263888\n",
            "mse_model_gru:  0.023852682\n"
          ]
        }
      ],
      "source": [
        "print(\"mape_model_lstm: \", mape_lstm)\n",
        "print(\"mse_model_lstm: \", mse_lstm)\n",
        "print(\"mape_model_gru: \", mape_gru)\n",
        "print(\"mse_model_gru: \", mse_gru)"
      ]
    },
    {
      "cell_type": "code",
      "execution_count": null,
      "id": "a4420cc4",
      "metadata": {
        "colab": {
          "base_uri": "https://localhost:8080/"
        },
        "id": "a4420cc4",
        "outputId": "80db180c-b6d3-4ac9-ffb9-c98064434dfb"
      },
      "outputs": [
        {
          "output_type": "execute_result",
          "data": {
            "text/plain": [
              "array([[0.19848236],\n",
              "       [0.20971066],\n",
              "       [0.22222522],\n",
              "       [0.2576451 ]], dtype=float32)"
            ]
          },
          "metadata": {},
          "execution_count": 30
        }
      ],
      "source": [
        "predicted_gru[1:5]"
      ]
    },
    {
      "cell_type": "code",
      "execution_count": null,
      "id": "57ce2f8d",
      "metadata": {
        "colab": {
          "base_uri": "https://localhost:8080/"
        },
        "id": "57ce2f8d",
        "outputId": "332e5c3e-89ff-4672-9262-ba4e355e85a0"
      },
      "outputs": [
        {
          "output_type": "execute_result",
          "data": {
            "text/plain": [
              "array([0.1651729 , 0.18094441, 0.19196543, 0.23180583], dtype=float32)"
            ]
          },
          "metadata": {},
          "execution_count": 31
        }
      ],
      "source": [
        "actual_gru[:4]"
      ]
    },
    {
      "cell_type": "code",
      "execution_count": null,
      "id": "ccb29dd7",
      "metadata": {
        "colab": {
          "base_uri": "https://localhost:8080/",
          "height": 491
        },
        "id": "ccb29dd7",
        "outputId": "27e3be51-d41a-43ad-d4a4-a35fd6bca722"
      },
      "outputs": [
        {
          "output_type": "display_data",
          "data": {
            "text/plain": [
              "<Figure size 2160x720 with 1 Axes>"
            ],
            "image/png": "[encoded data removed]"
          },
          "metadata": {
            "needs_background": "light"
          }
        }
      ],
      "source": [
        "pyplot.figure(figsize=(30,10))\n",
        "pyplot.plot(predicted_gru[:100],'r--',label=\"PREDICTED GRU\")\n",
        "pyplot.plot(predicted_lstm[:100],'g--',label=\"PREDICTED LSTM\")\n",
        "pyplot.plot(actual_gru[:100],'b--',label=\"ACTUAL\")\n",
        "pyplot.legend()\n",
        "pyplot.show()"
      ]
    }
  ],
  "metadata": {
    "kernelspec": {
      "display_name": "Python 3 (ipykernel)",
      "language": "python",
      "name": "python3"
    },
    "language_info": {
      "codemirror_mode": {
        "name": "ipython",
        "version": 3
      },
      "file_extension": ".py",
      "mimetype": "text/x-python",
      "name": "python",
      "nbconvert_exporter": "python",
      "pygments_lexer": "ipython3",
      "version": "3.9.7"
    },
    "colab": {
      "provenance": [],
      "include_colab_link": true
    }
  },
  "nbformat": 4,
  "nbformat_minor": 5
}